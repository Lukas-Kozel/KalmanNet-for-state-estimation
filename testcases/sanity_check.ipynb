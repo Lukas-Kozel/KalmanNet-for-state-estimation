{
 "cells": [
  {
   "cell_type": "code",
   "execution_count": 2,
   "id": "e2898439",
   "metadata": {},
   "outputs": [],
   "source": [
    "import sys\n",
    "import os\n",
    "\n",
    "notebook_path = os.getcwd() \n",
    "project_root = os.path.dirname(notebook_path)\n",
    "\n",
    "if project_root not in sys.path:\n",
    "    sys.path.insert(0, project_root)"
   ]
  },
  {
   "cell_type": "code",
   "execution_count": 3,
   "id": "1ac9fe0d",
   "metadata": {},
   "outputs": [],
   "source": [
    "import torch\n",
    "import torch.nn as nn\n",
    "from torch.utils.data import DataLoader, TensorDataset\n",
    "import matplotlib.pyplot as plt"
   ]
  },
  {
   "cell_type": "code",
   "execution_count": 11,
   "id": "63225feb",
   "metadata": {},
   "outputs": [],
   "source": [
    "import NN_models\n",
    "import Filters\n",
    "import utils\n",
    "import Systems\n",
    "from torch.utils.data import TensorDataset, DataLoader, random_split\n",
    "from state_NN_models.StateKalmanNet import StateKalmanNet"
   ]
  },
  {
   "cell_type": "code",
   "execution_count": 5,
   "id": "f59fadbe",
   "metadata": {},
   "outputs": [
    {
     "name": "stdout",
     "output_type": "stream",
     "text": [
      "Používané zařízení: cuda\n"
     ]
    }
   ],
   "source": [
    "device = torch.device(\"cuda\" if torch.cuda.is_available() else \"cpu\")\n",
    "print(f\"Používané zařízení: {device}\")"
   ]
  },
  {
   "cell_type": "code",
   "execution_count": 13,
   "id": "d40bdc62",
   "metadata": {},
   "outputs": [
    {
     "name": "stdout",
     "output_type": "stream",
     "text": [
      "\n",
      "Inicializace systémů dokončena.\n",
      "Reálný systém: f(x) = 0.50*x, h(x) = 1.00*x\n",
      "Model systému: f(x) = 0.50*x, h(x) = 1.00*x\n"
     ]
    }
   ],
   "source": [
    "state_dim = 1\n",
    "obs_dim = 1\n",
    "\n",
    "# --- Reálný systém (\"Ground Truth\") ---\n",
    "F_true = torch.tensor([[0.5]])\n",
    "H_true = torch.tensor([[1.0]])\n",
    "Q_true = torch.tensor([[0.1]])\n",
    "R_true = torch.tensor([[0.1]])\n",
    "Ex0_true = torch.tensor([[1.0]])  # Střední hodnota počátečního stavu\n",
    "P0_true = torch.tensor([[1.2]])   # Počáteční kovariance\n",
    "\n",
    "# --- Model systému ---\n",
    "F_model = F_true\n",
    "H_model = H_true\n",
    "Q_model = Q_true\n",
    "R_model = R_true\n",
    "Ex0_model = torch.tensor([[0.5]])  # Schválně jiná střední hodnota\n",
    "P0_model = torch.tensor([[1.5]])   # Schválně jiná počáteční kovariance\n",
    "\n",
    "\n",
    "sys_true = Systems.DynamicSystem(\n",
    "    state_dim=state_dim,\n",
    "    obs_dim=obs_dim,\n",
    "    Ex0=Ex0_true,\n",
    "    P0=P0_true,\n",
    "    Q=Q_true,\n",
    "    R=R_true,\n",
    "    F=F_true,\n",
    "    H=H_true,\n",
    "    device=device\n",
    ")\n",
    "\n",
    "sys_model = Systems.DynamicSystem(\n",
    "    state_dim=state_dim,\n",
    "    obs_dim=obs_dim,\n",
    "    Ex0=Ex0_model,\n",
    "    P0=P0_model,\n",
    "    Q=Q_model,\n",
    "    R=R_model,\n",
    "    F=F_model,\n",
    "    H=H_model,\n",
    "    device=device\n",
    ")\n",
    "\n",
    "print(\"\\nInicializace systémů dokončena.\")\n",
    "print(f\"Reálný systém: f(x) = {sys_true.F.item():.2f}*x, h(x) = {sys_true.H.item():.2f}*x\")\n",
    "print(f\"Model systému: f(x) = {sys_model.F.item():.2f}*x, h(x) = {sys_model.H.item():.2f}*x\")"
   ]
  },
  {
   "cell_type": "code",
   "execution_count": 14,
   "id": "9e975cbe",
   "metadata": {},
   "outputs": [],
   "source": [
    "TRAIN_SEQ_LEN = 10      # Krátké sekvence pro stabilní trénink (TBPTT)\n",
    "VALID_SEQ_LEN = 20      # Stejná délka pro konzistentní validaci\n",
    "TEST_SEQ_LEN = 200      # Dlouhé sekvence pro testování generalizace\n",
    "\n",
    "NUM_TRAIN_TRAJ = 5000   # Hodně trénovacích příkladů\n",
    "NUM_VALID_TRAJ = 500    # Dostatek pro spolehlivou validaci\n",
    "NUM_TEST_TRAJ = 100     # Pro robustní vyhodnocení\n",
    "\n",
    "BATCH_SIZE = 16         # Dobrý kompromis\n",
    "\n",
    "x_train, y_train = utils.generate_data(sys_true, num_trajectories=NUM_TRAIN_TRAJ, seq_len=TRAIN_SEQ_LEN)\n",
    "x_val, y_val = utils.generate_data(sys_true, num_trajectories=NUM_VALID_TRAJ, seq_len=VALID_SEQ_LEN)\n",
    "x_test, y_test = utils.generate_data(sys_true, num_trajectories=1, seq_len=TEST_SEQ_LEN)\n",
    "\n",
    "train_dataset = TensorDataset(x_train, y_train)\n",
    "val_dataset = TensorDataset(x_val, y_val)\n",
    "\n",
    "train_loader = DataLoader(train_dataset, batch_size=BATCH_SIZE, shuffle=True)\n",
    "val_loader = DataLoader(val_dataset, batch_size=BATCH_SIZE, shuffle=False)\n"
   ]
  },
  {
   "cell_type": "code",
   "execution_count": 15,
   "id": "f3313263",
   "metadata": {},
   "outputs": [
    {
     "name": "stdout",
     "output_type": "stream",
     "text": [
      "\n",
      "Zpracování dokončeno.\n",
      "Tvar odhadnutých stavů: torch.Size([200, 1])\n",
      "Tvar skutečných stavů:  torch.Size([200, 1])\n",
      "MSE pro EKF na první trajektorii: 0.0543\n"
     ]
    }
   ],
   "source": [
    "kalman_filter = Filters.ExtendedKalmanFilter(sys_model)\n",
    "y_first_trajectory = y_test[0] \n",
    "x_true_first_trajectory = x_test[0]\n",
    "\n",
    "kf_results = kalman_filter.process_sequence(y_first_trajectory)\n",
    "\n",
    "x_hat_kf = kf_results['x_filtered']\n",
    "P_hat_kf = kf_results['P_filtered']\n",
    "\n",
    "print(\"\\nZpracování dokončeno.\")\n",
    "print(f\"Tvar odhadnutých stavů: {x_hat_kf.shape}\")\n",
    "print(f\"Tvar skutečných stavů:  {x_true_first_trajectory.shape}\")\n",
    "\n",
    "mse_kf = torch.nn.functional.mse_loss(x_hat_kf, x_true_first_trajectory)\n",
    "print(f\"MSE pro EKF na první trajektorii: {mse_kf.item():.4f}\")"
   ]
  },
  {
   "cell_type": "code",
   "execution_count": null,
   "id": "f2f74e91",
   "metadata": {},
   "outputs": [
    {
     "name": "stderr",
     "output_type": "stream",
     "text": [
      "/home/luky/.local/lib/python3.10/site-packages/torch/optim/lr_scheduler.py:28: UserWarning: The verbose parameter is deprecated. Please use get_last_lr() to access the learning rate.\n",
      "  warnings.warn(\"The verbose parameter is deprecated. Please use get_last_lr() \"\n"
     ]
    },
    {
     "name": "stdout",
     "output_type": "stream",
     "text": [
      "Epoch [5/100], Train Loss: 0.067964, Val Loss: 0.060342\n",
      "Epoch [10/100], Train Loss: 0.057707, Val Loss: 0.055919\n"
     ]
    }
   ],
   "source": [
    "state_knet = StateKalmanNet(sys_model, device=device, hidden_size_multiplier=10).to(device)\n",
    "utils.train_state_KalmanNet(\n",
    "    model=state_knet, \n",
    "    train_loader=train_loader, \n",
    "    val_loader=val_loader, \n",
    "    device=device, \n",
    "    epochs=100, \n",
    "    lr=1e-4,\n",
    "    early_stopping_patience=15\n",
    ")"
   ]
  },
  {
   "cell_type": "code",
   "execution_count": null,
   "id": "88fcff43",
   "metadata": {},
   "outputs": [],
   "source": [
    "plt.figure(figsize=(15, 7))\n",
    "plt.title(\"Porovnání odhadů: KalmanNet vs. Klasický Kalmanův Filtr\", fontsize=16)\n",
    "\n",
    "x_true_plot = x_test.squeeze().numpy()\n",
    "y_meas_plot = y_test.squeeze().numpy()\n",
    "x_hat_knet_plot = x_hat_knet.squeeze().numpy()\n",
    "x_hat_kf_plot = x_hat_kf.squeeze().numpy()\n",
    "\n",
    "plt.plot(x_true_plot, 'k-', linewidth=2, label=\"Skutečný stav (Ground Truth)\")\n",
    "plt.plot(y_meas_plot, 'r.', markersize=4, alpha=0.6, label=\"Měření\")\n",
    "plt.plot(x_hat_knet_plot, 'g--', linewidth=2.5, label=f\"Odhad KalmanNet (MSE={mse_knet.item():.4f})\")\n",
    "plt.plot(x_hat_kf_plot, 'b--', linewidth=2.5, label=f\"Odhad Klasický KF (MSE={mse_kf.item():.4f})\")\n",
    "\n",
    "plt.xlabel(\"Časový krok\", fontsize=12)\n",
    "plt.ylabel(\"Hodnota\", fontsize=12)\n",
    "plt.grid(True, linestyle='--', alpha=0.6)\n",
    "plt.legend(fontsize=12)\n",
    "plt.show()"
   ]
  }
 ],
 "metadata": {
  "kernelspec": {
   "display_name": "Python 3",
   "language": "python",
   "name": "python3"
  },
  "language_info": {
   "codemirror_mode": {
    "name": "ipython",
    "version": 3
   },
   "file_extension": ".py",
   "mimetype": "text/x-python",
   "name": "python",
   "nbconvert_exporter": "python",
   "pygments_lexer": "ipython3",
   "version": "3.10.12"
  }
 },
 "nbformat": 4,
 "nbformat_minor": 5
}
