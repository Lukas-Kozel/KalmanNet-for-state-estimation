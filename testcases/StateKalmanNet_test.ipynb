{
 "cells": [
  {
   "cell_type": "code",
   "execution_count": 1,
   "id": "46ff0b5c",
   "metadata": {},
   "outputs": [],
   "source": [
    "import sys\n",
    "import os\n",
    "\n",
    "notebook_path = os.getcwd() \n",
    "project_root = os.path.dirname(notebook_path)\n",
    "\n",
    "if project_root not in sys.path:\n",
    "    sys.path.insert(0, project_root)\n"
   ]
  },
  {
   "cell_type": "code",
   "execution_count": 2,
   "id": "d5dd10fe",
   "metadata": {},
   "outputs": [],
   "source": [
    "import torch\n",
    "import torch.nn as nn\n",
    "from torch.utils.data import DataLoader, TensorDataset\n",
    "import matplotlib.pyplot as plt"
   ]
  },
  {
   "cell_type": "code",
   "execution_count": 3,
   "id": "ac9e0299",
   "metadata": {},
   "outputs": [],
   "source": [
    "import NN_models\n",
    "import Filters\n",
    "import utils\n",
    "import Systems\n",
    "from torch.utils.data import TensorDataset, DataLoader, random_split\n",
    "from state_NN_models.StateKalmanNet import StateKalmanNet"
   ]
  },
  {
   "cell_type": "code",
   "execution_count": 4,
   "id": "6c41a4a9",
   "metadata": {},
   "outputs": [
    {
     "name": "stdout",
     "output_type": "stream",
     "text": [
      "Používané zařízení: cuda\n"
     ]
    }
   ],
   "source": [
    "device = torch.device(\"cuda\" if torch.cuda.is_available() else \"cpu\")\n",
    "print(f\"Používané zařízení: {device}\")"
   ]
  },
  {
   "cell_type": "code",
   "execution_count": 5,
   "id": "1190cea4",
   "metadata": {},
   "outputs": [],
   "source": [
    "h_true_nonlinear = lambda x: 0.5 * x\n",
    "f_true_nonlinear = lambda x: 0.9 * x - 0.05 * x**3 \n",
    "\n",
    "Q_true = torch.tensor([[0.1]])\n",
    "R_true = torch.tensor([[0.1]])\n",
    "\n",
    "Ex0_true = torch.tensor([[1.0]])\n",
    "P0_true = torch.tensor([[0.5]])\n",
    "\n",
    "sys_true = Systems.NonlinearSystem(f_true_nonlinear, h_true_nonlinear, Q_true, R_true, Ex0_true, P0_true)\n",
    "\n",
    "#  Nepřesná dynamika (lineární aproximace nelineární funkce f)\n",
    "f_model_nonlinear = lambda x: 0.9 * x \n",
    "h_model_nonlinear = h_true_nonlinear\n",
    "# Nepřesná znalost šumu (podcenění Q)\n",
    "Q_model = torch.tensor([[0.01]])\n",
    "R_model = torch.tensor([[0.2]])\n",
    "# Nepřesný počáteční odhad (pro EKF)\n",
    "Ex0_model = torch.tensor([[0.5]])\n",
    "P0_model = torch.tensor([[0.5]])\n",
    "\n",
    "# Sestavení nepřesného modelu pro filtry\n",
    "# Funkce h, R jsou pro jednoduchost stejné, ale f, Q, Ex0, P0 jsou jiné\n",
    "sys_model = Systems.NonlinearSystem(f_model_nonlinear, h_model_nonlinear, Q_model, R_model, Ex0_model, P0_model)\n",
    "# sys_model = Systems.NonlinearSystem(f_true_nonlinear, h_true_nonlinear, Q_true, R_true, Ex0_model, P0_model)"
   ]
  },
  {
   "cell_type": "code",
   "execution_count": 6,
   "id": "85eda8fa",
   "metadata": {},
   "outputs": [],
   "source": [
    "TRAIN_SEQ_LEN = 10      # Krátké sekvence pro stabilní trénink (TBPTT)\n",
    "VALID_SEQ_LEN = 20      # Stejná délka pro konzistentní validaci\n",
    "TEST_SEQ_LEN = 200      # Dlouhé sekvence pro testování generalizace\n",
    "\n",
    "NUM_TRAIN_TRAJ = 5000   # Hodně trénovacích příkladů\n",
    "NUM_VALID_TRAJ = 500    # Dostatek pro spolehlivou validaci\n",
    "NUM_TEST_TRAJ = 100     # Pro robustní vyhodnocení\n",
    "\n",
    "BATCH_SIZE = 16         # Dobrý kompromis\n",
    "\n",
    "x_train, y_train = utils.generate_data(sys_true, num_trajectories=NUM_TRAIN_TRAJ, seq_len=TRAIN_SEQ_LEN)\n",
    "x_val, y_val = utils.generate_data(sys_true, num_trajectories=NUM_VALID_TRAJ, seq_len=VALID_SEQ_LEN)\n",
    "x_test, y_test = utils.generate_data(sys_true, num_trajectories=1, seq_len=TEST_SEQ_LEN)\n",
    "\n",
    "train_dataset = TensorDataset(x_train, y_train)\n",
    "val_dataset = TensorDataset(x_val, y_val)\n",
    "\n",
    "train_loader = DataLoader(train_dataset, batch_size=BATCH_SIZE, shuffle=True)\n",
    "val_loader = DataLoader(val_dataset, batch_size=BATCH_SIZE, shuffle=False)\n"
   ]
  },
  {
   "cell_type": "code",
   "execution_count": 7,
   "id": "a763fde1",
   "metadata": {},
   "outputs": [],
   "source": [
    "ekf = Filters.ExtendedKalmanFilter(sys_model)\n",
    "y_test_seq = y_test.squeeze(0)\n",
    "ekf_results = ekf.apply_filter(y_test_seq)\n",
    "x_hat_ekf = ekf_results['x_filtered']\n",
    "P_hat_ekf = ekf_results['P_filtered']"
   ]
  },
  {
   "cell_type": "code",
   "execution_count": 8,
   "id": "994e42c6",
   "metadata": {},
   "outputs": [
    {
     "name": "stderr",
     "output_type": "stream",
     "text": [
      "/home/luky/.local/lib/python3.10/site-packages/torch/optim/lr_scheduler.py:28: UserWarning: The verbose parameter is deprecated. Please use get_last_lr() to access the learning rate.\n",
      "  warnings.warn(\"The verbose parameter is deprecated. Please use get_last_lr() \"\n"
     ]
    },
    {
     "name": "stdout",
     "output_type": "stream",
     "text": [
      "Epoch [5/150], Train Loss: 0.134215, Val Loss: 0.130931\n",
      "Epoch [10/150], Train Loss: 0.130162, Val Loss: 0.129182\n",
      "Epoch [15/150], Train Loss: 0.128926, Val Loss: 0.128602\n",
      "Epoch [20/150], Train Loss: 0.128452, Val Loss: 0.128169\n",
      "Epoch [25/150], Train Loss: 0.128227, Val Loss: 0.128150\n",
      "Epoch [30/150], Train Loss: 0.128232, Val Loss: 0.128100\n",
      "Epoch [35/150], Train Loss: 0.128117, Val Loss: 0.127973\n",
      "Epoch [40/150], Train Loss: 0.128050, Val Loss: 0.127957\n",
      "Epoch [45/150], Train Loss: 0.128049, Val Loss: 0.127929\n",
      "Epoch [50/150], Train Loss: 0.127930, Val Loss: 0.127893\n",
      "Epoch [55/150], Train Loss: 0.128041, Val Loss: 0.127878\n",
      "Epoch [60/150], Train Loss: 0.128040, Val Loss: 0.127892\n",
      "Epoch [65/150], Train Loss: 0.127985, Val Loss: 0.127901\n",
      "Epoch [70/150], Train Loss: 0.127972, Val Loss: 0.127897\n",
      "\n",
      "Early stopping spuštěno po 72 epochách.\n",
      "Trénování dokončeno.\n",
      "Načítám nejlepší model s validační chybou: 0.127874\n"
     ]
    },
    {
     "data": {
      "text/plain": [
       "StateKalmanNet(\n",
       "  (dnn): DNN_KalmanNet(\n",
       "    (input_layer): Linear(in_features=2, out_features=20, bias=True)\n",
       "    (gru): GRU(20, 20)\n",
       "    (output_layer): Linear(in_features=20, out_features=1, bias=True)\n",
       "  )\n",
       ")"
      ]
     },
     "execution_count": 8,
     "metadata": {},
     "output_type": "execute_result"
    }
   ],
   "source": [
    "state_knet = StateKalmanNet(sys_model, device=device, hidden_size_multiplier=10).to(device)\n",
    "utils.train_state_KalmanNet(\n",
    "    model=state_knet, \n",
    "    train_loader=train_loader, \n",
    "    val_loader=val_loader, \n",
    "    device=device, \n",
    "    epochs=150, \n",
    "    lr=1e-4,\n",
    "    early_stopping_patience=15\n",
    ")"
   ]
  },
  {
   "cell_type": "code",
   "execution_count": null,
   "id": "55dc35b2",
   "metadata": {},
   "outputs": [
    {
     "name": "stdout",
     "output_type": "stream",
     "text": [
      "Vyhodnocuji na 100 testovacích trajektoriích...\n"
     ]
    },
    {
     "ename": "KeyboardInterrupt",
     "evalue": "",
     "output_type": "error",
     "traceback": [
      "\u001b[0;31m---------------------------------------------------------------------------\u001b[0m",
      "\u001b[0;31mKeyboardInterrupt\u001b[0m                         Traceback (most recent call last)",
      "Cell \u001b[0;32mIn[9], line 34\u001b[0m\n\u001b[1;32m     32\u001b[0m \u001b[38;5;28;01mfor\u001b[39;00m t \u001b[38;5;129;01min\u001b[39;00m \u001b[38;5;28mrange\u001b[39m(TEST_SEQ_LEN):\n\u001b[1;32m     33\u001b[0m     y_t \u001b[38;5;241m=\u001b[39m y_test_seq_gpu[t, :]\u001b[38;5;241m.\u001b[39munsqueeze(\u001b[38;5;241m0\u001b[39m)\n\u001b[0;32m---> 34\u001b[0m     x_filtered_t \u001b[38;5;241m=\u001b[39m \u001b[43mstate_knet\u001b[49m\u001b[38;5;241;43m.\u001b[39;49m\u001b[43mstep\u001b[49m\u001b[43m(\u001b[49m\u001b[43my_t\u001b[49m\u001b[43m)\u001b[49m\n\u001b[1;32m     35\u001b[0m     knet_predictions\u001b[38;5;241m.\u001b[39mappend(x_filtered_t\u001b[38;5;241m.\u001b[39msqueeze(\u001b[38;5;241m0\u001b[39m))\n\u001b[1;32m     36\u001b[0m x_hat_knet_gpu \u001b[38;5;241m=\u001b[39m torch\u001b[38;5;241m.\u001b[39mstack(knet_predictions, dim\u001b[38;5;241m=\u001b[39m\u001b[38;5;241m0\u001b[39m)\n",
      "File \u001b[0;32m~/skola/KalmanNet-for-state-estimation/state_NN_models/StateKalmanNet.py:40\u001b[0m, in \u001b[0;36mstep\u001b[0;34m(self, y_t)\u001b[0m\n\u001b[1;32m     37\u001b[0m x_predicted \u001b[38;5;241m=\u001b[39m torch\u001b[38;5;241m.\u001b[39mstack(x_predicted_list)\u001b[38;5;241m.\u001b[39msqueeze(\u001b[38;5;241m-\u001b[39m\u001b[38;5;241m1\u001b[39m)\n\u001b[1;32m     39\u001b[0m y_predicted_list \u001b[38;5;241m=\u001b[39m [\u001b[38;5;28mself\u001b[39m\u001b[38;5;241m.\u001b[39msystem_model\u001b[38;5;241m.\u001b[39mh(x\u001b[38;5;241m.\u001b[39munsqueeze(\u001b[38;5;241m-\u001b[39m\u001b[38;5;241m1\u001b[39m)) \u001b[38;5;28;01mfor\u001b[39;00m x \u001b[38;5;129;01min\u001b[39;00m x_predicted]\n\u001b[0;32m---> 40\u001b[0m y_predicted \u001b[38;5;241m=\u001b[39m torch\u001b[38;5;241m.\u001b[39mstack(y_predicted_list)\u001b[38;5;241m.\u001b[39msqueeze(\u001b[38;5;241m-\u001b[39m\u001b[38;5;241m1\u001b[39m)\n\u001b[1;32m     42\u001b[0m innovation \u001b[38;5;241m=\u001b[39m y_t \u001b[38;5;241m-\u001b[39m y_predicted\n\u001b[1;32m     44\u001b[0m norm_innovation \u001b[38;5;241m=\u001b[39m F\u001b[38;5;241m.\u001b[39mnormalize(innovation, p\u001b[38;5;241m=\u001b[39m\u001b[38;5;241m2\u001b[39m, dim\u001b[38;5;241m=\u001b[39m\u001b[38;5;241m1\u001b[39m, eps\u001b[38;5;241m=\u001b[39m\u001b[38;5;241m1e-12\u001b[39m)\n",
      "\u001b[0;31mKeyboardInterrupt\u001b[0m: "
     ]
    }
   ],
   "source": [
    "import torch\n",
    "import torch.nn.functional as F\n",
    "import numpy as np\n",
    "\n",
    "\n",
    "TEST_SEQ_LEN = 200      # Dlouhé sekvence pro testování generalizace\n",
    "\n",
    "NUM_TEST_TRAJ = 20     # Pro robustní vyhodnocení\n",
    "\n",
    "x_test, y_test = utils.generate_data(sys_true, num_trajectories=NUM_TEST_TRAJ, seq_len=TEST_SEQ_LEN)\n",
    "\n",
    "state_knet.eval()\n",
    "\n",
    "\n",
    "\n",
    "# Seznamy pro sběr MSE z každé trajektorie\n",
    "all_mse_knet = []\n",
    "all_mse_ekf = []\n",
    "\n",
    "print(f\"Vyhodnocuji na {NUM_TEST_TRAJ} testovacích trajektoriích...\")\n",
    "\n",
    "with torch.no_grad():\n",
    "    # Smyčka přes všechny testovací trajektorie\n",
    "    for i in range(NUM_TEST_TRAJ):\n",
    "        # Získáme i-tou trajektorii\n",
    "        y_test_seq_gpu = y_test[i].to(device) # Tvar [seq_len, obs_dim] pro KNet\n",
    "        x_true_seq_cpu = x_test[i].cpu()   # Tvar [seq_len, state_dim] pro porovnání\n",
    "        \n",
    "        # --- Vyhodnocení StatefulKalmanNet ---\n",
    "        state_knet.reset(batch_size=1)\n",
    "        knet_predictions = []\n",
    "        for t in range(TEST_SEQ_LEN):\n",
    "            y_t = y_test_seq_gpu[t, :].unsqueeze(0)\n",
    "            x_filtered_t = state_knet.step(y_t)\n",
    "            knet_predictions.append(x_filtered_t.squeeze(0))\n",
    "        x_hat_knet_gpu = torch.stack(knet_predictions, dim=0)\n",
    "        \n",
    "        # Spočítáme MSE pro tuto jednu trajektorii a uložíme\n",
    "        mse_knet_run = F.mse_loss(x_hat_knet_gpu.cpu(), x_true_seq_cpu)\n",
    "        all_mse_knet.append(mse_knet_run.item())\n",
    "        \n",
    "        # --- Vyhodnocení ExtendedKalmanFilter ---\n",
    "        \n",
    "        # Vytvoříme novou, čistou instanci EKF pro každou trajektorii\n",
    "        ekf_instance = Filters.ExtendedKalmanFilter(sys_model)\n",
    "        \n",
    "        # Připravíme data - EKF je také očekává na správném zařízení\n",
    "        y_test_seq_ekf = y_test[i].to(ekf_instance.device)\n",
    "        \n",
    "        # Zavoláme metodu .apply_filter\n",
    "        ekf_results = ekf_instance.apply_filter(y_test_seq_ekf)\n",
    "        \n",
    "        # Získáme odhady a přesuneme je na CPU pro porovnání\n",
    "        x_hat_ekf_seq = ekf_results['x_filtered'].cpu()\n",
    "        \n",
    "        # Spočítáme MSE pro tuto jednu trajektorii a uložíme\n",
    "        mse_ekf_run = F.mse_loss(x_hat_ekf_seq, x_true_seq_cpu)\n",
    "        all_mse_ekf.append(mse_ekf_run.item())\n",
    "\n",
    "# --- Finální výpočet průměrného MSE ---\n",
    "avg_mse_knet = np.mean(all_mse_knet)\n",
    "avg_mse_ekf = np.mean(all_mse_ekf)\n",
    "\n",
    "print(f\"\\nPrůměrná MSE KalmanNet na {NUM_TEST_TRAJ} trajektoriích: {avg_mse_knet:.4f}\")\n",
    "print(f\"Průměrná MSE EKF na {NUM_TEST_TRAJ} trajektoriích:       {avg_mse_ekf:.4f}\")"
   ]
  },
  {
   "cell_type": "code",
   "execution_count": null,
   "id": "d4ed49a3",
   "metadata": {},
   "outputs": [
    {
     "ename": "NameError",
     "evalue": "name 'utils' is not defined",
     "output_type": "error",
     "traceback": [
      "\u001b[0;31m---------------------------------------------------------------------------\u001b[0m",
      "\u001b[0;31mNameError\u001b[0m                                 Traceback (most recent call last)",
      "Cell \u001b[0;32mIn[1], line 6\u001b[0m\n\u001b[1;32m      3\u001b[0m \u001b[38;5;28;01mimport\u001b[39;00m \u001b[38;5;21;01mtime\u001b[39;00m\n\u001b[1;32m      4\u001b[0m \u001b[38;5;28;01mimport\u001b[39;00m \u001b[38;5;21;01mnumpy\u001b[39;00m \u001b[38;5;28;01mas\u001b[39;00m \u001b[38;5;21;01mnp\u001b[39;00m\n\u001b[0;32m----> 6\u001b[0m x_online_test, y_online_test \u001b[38;5;241m=\u001b[39m \u001b[43mutils\u001b[49m\u001b[38;5;241m.\u001b[39mgenerate_data(sys_true, num_trajectories\u001b[38;5;241m=\u001b[39m\u001b[38;5;241m1\u001b[39m, seq_len\u001b[38;5;241m=\u001b[39mTEST_SEQ_LEN)\n\u001b[1;32m      8\u001b[0m y_online_seq \u001b[38;5;241m=\u001b[39m y_online_test\u001b[38;5;241m.\u001b[39msqueeze(\u001b[38;5;241m0\u001b[39m)\u001b[38;5;241m.\u001b[39mto(device) \u001b[38;5;66;03m# Tvar [seq_len, obs_dim]\u001b[39;00m\n\u001b[1;32m      9\u001b[0m x_true_seq \u001b[38;5;241m=\u001b[39m x_online_test\u001b[38;5;241m.\u001b[39msqueeze(\u001b[38;5;241m0\u001b[39m)\u001b[38;5;241m.\u001b[39mcpu()      \u001b[38;5;66;03m# Tvar [seq_len, state_dim]\u001b[39;00m\n",
      "\u001b[0;31mNameError\u001b[0m: name 'utils' is not defined"
     ]
    }
   ],
   "source": [
    "import torch\n",
    "import matplotlib.pyplot as plt\n",
    "import time\n",
    "import numpy as np\n",
    "\n",
    "x_online_test, y_online_test = utils.generate_data(sys_true, num_trajectories=1, seq_len=TEST_SEQ_LEN)\n",
    "\n",
    "y_online_seq = y_online_test.squeeze(0).to(device) # Tvar [seq_len, obs_dim]\n",
    "x_true_seq = x_online_test.squeeze(0).cpu()      # Tvar [seq_len, state_dim]\n",
    "\n",
    "# --- 2. Simulace online filtrace ---\n",
    "state_knet.eval()\n",
    "\n",
    "# DŮLEŽITÉ: Reset vnitřního stavu filtru na začátku\n",
    "state_knet.reset(batch_size=1)\n",
    "\n",
    "# Seznam pro sběr online odhadů\n",
    "online_predictions = []\n",
    "# Seznam pro měření času na jeden krok\n",
    "step_times = []\n",
    "\n",
    "with torch.no_grad():\n",
    "    for t in range(TEST_SEQ_LEN):\n",
    "        \n",
    "        start_time = time.time()\n",
    "        \n",
    "        y_t = y_online_seq[t, :].unsqueeze(0)\n",
    "        \n",
    "        x_filtered_t = state_knet.step(y_t)\n",
    "        \n",
    "        end_time = time.time()\n",
    "        step_times.append(end_time - start_time)\n",
    "        \n",
    "        online_predictions.append(x_filtered_t.cpu().squeeze(0))\n",
    "\n",
    "print(\"Online simulace dokončena.\")\n",
    "\n",
    "x_hat_online = torch.stack(online_predictions, dim=0)\n",
    "\n",
    "mse_online = F.mse_loss(x_hat_online, x_true_seq)\n",
    "avg_step_time_ms = np.mean(step_times) * 1000 # Průměrný čas v milisekundách\n",
    "\n",
    "print(\"\\n--- Výsledky online simulace ---\")\n",
    "print(f\"  Celková MSE: {mse_online.item():.4f}\")\n",
    "print(f\"  Průměrný čas na jeden krok filtrace: {avg_step_time_ms:.4f} ms\")\n",
    "\n",
    "\n",
    "plt.figure(figsize=(18, 9))\n",
    "plt.title(\"Simulace online predikce pomocí stavového KalmanNetu\", fontsize=16)\n",
    "\n",
    "x_true_plot = x_true_seq.numpy()\n",
    "y_meas_plot = y_online_seq.cpu().numpy()\n",
    "x_hat_online_plot = x_hat_online.numpy()\n",
    "\n",
    "plt.plot(x_true_plot, 'k-', linewidth=3, label=\"Skutečný stav (Ground Truth)\")\n",
    "plt.plot(y_meas_plot, 'r.', markersize=6, alpha=0.6, label=\"Přicházející měření\")\n",
    "plt.plot(x_hat_online_plot, 'c--', linewidth=2.5, label=f\"Online odhad KalmanNet (MSE={mse_online.item():.4f})\")\n",
    "\n",
    "plt.xlabel(\"Časový krok (t)\", fontsize=12)\n",
    "plt.ylabel(\"Hodnota\", fontsize=12)\n",
    "plt.grid(True, linestyle='--', alpha=0.7)\n",
    "plt.legend(fontsize=12)\n",
    "plt.show()"
   ]
  }
 ],
 "metadata": {
  "kernelspec": {
   "display_name": "Python 3",
   "language": "python",
   "name": "python3"
  },
  "language_info": {
   "codemirror_mode": {
    "name": "ipython",
    "version": 3
   },
   "file_extension": ".py",
   "mimetype": "text/x-python",
   "name": "python",
   "nbconvert_exporter": "python",
   "pygments_lexer": "ipython3",
   "version": "3.10.12"
  }
 },
 "nbformat": 4,
 "nbformat_minor": 5
}
