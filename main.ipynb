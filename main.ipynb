{
 "cells": [
  {
   "cell_type": "code",
   "execution_count": 1,
   "id": "3c12fbe6",
   "metadata": {},
   "outputs": [],
   "source": [
    "import torch\n",
    "import torch.nn as nn\n",
    "from torch.utils.data import DataLoader, TensorDataset\n",
    "import matplotlib.pyplot as plt"
   ]
  },
  {
   "cell_type": "code",
   "execution_count": 2,
   "id": "a09fda1c",
   "metadata": {},
   "outputs": [],
   "source": [
    "from LinearKalmanNet import LinearKalmanNet\n",
    "from KalmanNet2 import KalmanNet2\n",
    "from KalmanNet import KalmanNet\n",
    "from utils import generate_data, train\n",
    "from Kalman import KalmanFilter\n",
    "from ExtendedKalmanFilter import ExtendedKalmanFilter\n",
    "from LinearSystem import LinearSystem\n",
    "from NonLinearSystem import NonlinearSystem\n",
    "from torch.utils.data import TensorDataset, DataLoader, random_split\n",
    "from utils import train_with_scheduler\n"
   ]
  },
  {
   "cell_type": "code",
   "execution_count": 3,
   "id": "eee9910e",
   "metadata": {},
   "outputs": [
    {
     "name": "stdout",
     "output_type": "stream",
     "text": [
      "Používané zařízení: cuda\n"
     ]
    }
   ],
   "source": [
    "device = torch.device(\"cuda\" if torch.cuda.is_available() else \"cpu\")\n",
    "print(f\"Používané zařízení: {device}\")"
   ]
  },
  {
   "cell_type": "markdown",
   "id": "b24355f3",
   "metadata": {},
   "source": [
    "# Testcase 1: Lineární systém\n",
    "Předpoklad, že uvažovaný model systému je identický jako samotný systém. Kromě počátečních podmínek."
   ]
  },
  {
   "cell_type": "code",
   "execution_count": null,
   "id": "8180b017",
   "metadata": {},
   "outputs": [],
   "source": [
    "# --- Reálný systém ---\n",
    "F_true = torch.tensor([[0.5]])\n",
    "H_true = torch.tensor([[1.0]])\n",
    "Q_true = torch.tensor([[0.1]])\n",
    "R_true = torch.tensor([[0.1]])\n",
    "Ex0_true = torch.tensor([[1.0]])  # Očekávaná hodnota počátečního stavu\n",
    "P0_true = torch.tensor([[1.2]])  # Počáteční kov\n",
    "\n",
    "sys_true = LinearSystem(Ex0_true,P0_true,F_true, H_true, Q_true, R_true)\n",
    "\n",
    "Ex0_model = torch.tensor([[0.5]])  # Očekávaná hodnota počátečního stavu\n",
    "P0_model = torch.tensor([[1.5]])  # Počáteční kov\n",
    "\n",
    "F_model = F_true\n",
    "H_model = H_true\n",
    "Q_model = Q_true\n",
    "R_model = R_true\n",
    "sys_model = LinearSystem(Ex0_model,P0_model,F_model,H_model,Q_model,R_model)\n"
   ]
  },
  {
   "cell_type": "code",
   "execution_count": null,
   "id": "77a913fc",
   "metadata": {},
   "outputs": [],
   "source": [
    "x_train, y_train = generate_data(sys_true, num_trajectories=1000, seq_len=100)\n",
    "x_test, y_test = generate_data(sys_true, num_trajectories=1, seq_len=200) # Jedna delší trajektorie pro test\n"
   ]
  },
  {
   "cell_type": "code",
   "execution_count": null,
   "id": "105b5f7d",
   "metadata": {},
   "outputs": [],
   "source": [
    "train_dataset = TensorDataset(x_train, y_train)\n",
    "train_loader = DataLoader(train_dataset, batch_size=64, shuffle=True)"
   ]
  },
  {
   "cell_type": "code",
   "execution_count": null,
   "id": "5ad99007",
   "metadata": {},
   "outputs": [],
   "source": [
    "kalman_filter = KalmanFilter(Ex0_model, P0_model, F_model, H_model, Q_model, R_model)\n",
    "kf_data = kalman_filter.apply_filter(y_test[0])\n",
    "x_hat_kf = kf_data['x_filtered']"
   ]
  },
  {
   "cell_type": "code",
   "execution_count": null,
   "id": "13f8e7da",
   "metadata": {},
   "outputs": [],
   "source": [
    "knet = LinearKalmanNet(sys_model,128).to(device)\n",
    "train(knet, train_loader,device,epochs=50, lr=1e-4)"
   ]
  },
  {
   "cell_type": "code",
   "execution_count": null,
   "id": "9da85418",
   "metadata": {},
   "outputs": [],
   "source": [
    "knet.eval()\n",
    "with torch.no_grad():\n",
    "    y_test_device = y_test.to(device)\n",
    "    x_hat_knet_test_device = knet(y_test_device)\n",
    "    x_hat_knet = x_hat_knet_test_device.cpu()\n",
    "\n",
    "mse_criterion = nn.MSELoss()\n",
    "mse_knet = mse_criterion(x_hat_knet, x_test)\n",
    "mse_kf = mse_criterion(x_hat_kf, x_test[0])\n",
    "\n",
    "print(f\"\\nVýsledná MSE KalmanNet: {mse_knet.item():.4f}\")\n",
    "print(f\"Výsledná MSE klasického KF: {mse_kf.item():.4f}\")"
   ]
  },
  {
   "cell_type": "code",
   "execution_count": null,
   "id": "90266d0d",
   "metadata": {},
   "outputs": [],
   "source": [
    "plt.figure(figsize=(15, 7))\n",
    "plt.title(\"Porovnání odhadů: KalmanNet vs. Klasický Kalmanův Filtr\", fontsize=16)\n",
    "\n",
    "x_true_plot = x_test.squeeze().numpy()\n",
    "y_meas_plot = y_test.squeeze().numpy()\n",
    "x_hat_knet_plot = x_hat_knet.squeeze().numpy()\n",
    "x_hat_kf_plot = x_hat_kf.squeeze().numpy()\n",
    "\n",
    "plt.plot(x_true_plot, 'k-', linewidth=2, label=\"Skutečný stav (Ground Truth)\")\n",
    "plt.plot(y_meas_plot, 'r.', markersize=4, alpha=0.6, label=\"Měření\")\n",
    "plt.plot(x_hat_knet_plot, 'g--', linewidth=2.5, label=f\"Odhad KalmanNet (MSE={mse_knet.item():.4f})\")\n",
    "plt.plot(x_hat_kf_plot, 'b--', linewidth=2.5, label=f\"Odhad Klasický KF (MSE={mse_kf.item():.4f})\")\n",
    "\n",
    "plt.xlabel(\"Časový krok\", fontsize=12)\n",
    "plt.ylabel(\"Hodnota\", fontsize=12)\n",
    "plt.grid(True, linestyle='--', alpha=0.6)\n",
    "plt.legend(fontsize=12)\n",
    "plt.show()"
   ]
  },
  {
   "cell_type": "markdown",
   "id": "769fb5cd",
   "metadata": {},
   "source": [
    "# Testcase 2: Nelineární systém\n",
    "Předpoklad, že uvažovaný model systému je identický jako samotný systém"
   ]
  },
  {
   "cell_type": "code",
   "execution_count": null,
   "id": "f177cca5",
   "metadata": {},
   "outputs": [],
   "source": [
    "h_true_nonlinear = lambda x: 0.5 * x\n",
    "f_true_nonlinear = lambda x: 0.9 * x - 0.05 * x**3 \n",
    "\n",
    "Q_true = torch.tensor([[0.1]])\n",
    "R_true = torch.tensor([[0.1]])\n",
    "\n",
    "Ex0_true = torch.tensor([[1.0]])\n",
    "P0_true = torch.tensor([[0.5]])\n",
    "\n",
    "sys_true = NonlinearSystem(f_true_nonlinear, h_true_nonlinear, Q_true, R_true, Ex0_true, P0_true)\n",
    "\n",
    "Ex0_model = torch.tensor([[0.5]])\n",
    "P0_model = torch.tensor([[1.0]])\n",
    "sys_model= NonlinearSystem(f_true_nonlinear, h_true_nonlinear, Q_true, R_true, Ex0_model, P0_model)"
   ]
  },
  {
   "cell_type": "code",
   "execution_count": null,
   "id": "750f8794",
   "metadata": {},
   "outputs": [],
   "source": [
    "x_train, y_train = generate_data(sys_true, num_trajectories=1000, seq_len=100)\n",
    "x_test, y_test = generate_data(sys_true, num_trajectories=1, seq_len=200)\n",
    "\n",
    "train_dataset = TensorDataset(x_train, y_train)\n",
    "train_loader = DataLoader(train_dataset, batch_size=64, shuffle=True)\n"
   ]
  },
  {
   "cell_type": "code",
   "execution_count": null,
   "id": "dc34c320",
   "metadata": {},
   "outputs": [],
   "source": [
    "ekf = ExtendedKalmanFilter(sys_model)\n",
    "y_test_seq = y_test.squeeze(0)\n",
    "ekf_results = ekf.apply_filter(y_test_seq)\n",
    "x_hat_ekf = ekf_results['x_filtered']"
   ]
  },
  {
   "cell_type": "code",
   "execution_count": null,
   "id": "f9ba8619",
   "metadata": {},
   "outputs": [],
   "source": [
    "knet_nelinearni = KalmanNet(sys_model).to(device)\n",
    "train(knet_nelinearni, train_loader, device, epochs=50, lr=1e-4)"
   ]
  },
  {
   "cell_type": "code",
   "execution_count": null,
   "id": "bf800a48",
   "metadata": {},
   "outputs": [],
   "source": [
    "print(\"\\n--- Trénování KalmanNet Architektury #2 ---\")\n",
    "knet2 = KalmanNet2(sys_model, in_mult=20, out_mult=30).to(device)\n",
    "train(knet2, train_loader, device, epochs=50, lr=1e-4)\n",
    "knet2.eval()\n",
    "with torch.no_grad():\n",
    "    x_hat_knet2 = knet2(y_test.to(device)).cpu()"
   ]
  },
  {
   "cell_type": "code",
   "execution_count": null,
   "id": "6982ddb4",
   "metadata": {},
   "outputs": [],
   "source": [
    "knet = knet_nelinearni\n",
    "knet.eval()\n",
    "\n",
    "with torch.no_grad():\n",
    "    y_test_device = y_test.to(device)\n",
    "    x_hat_knet_device = knet(y_test_device)\n",
    "    x_hat_knet = x_hat_knet_device.cpu()\n",
    "\n",
    "mse_criterion = nn.MSELoss()\n",
    "mse_knet = mse_criterion(x_hat_knet, x_test)\n",
    "mse_ekf = mse_criterion(x_hat_ekf, x_test)\n",
    "mse_knet2 = mse_criterion(x_hat_knet2, x_test)\n",
    "\n",
    "print(f\"\\nVýsledná MSE KalmanNet na nelineárním systému: {mse_knet.item():.4f}\")\n",
    "print(f\"Výsledná MSE EKF na nelineárním systému:       {mse_ekf.item():.4f}\")\n",
    "print(f\"Výsledná MSE KalmanNet (Arch. #2):     {mse_knet2.item():.4f}\")\n",
    "\n",
    "plt.figure(figsize=(16, 8))\n",
    "plt.title(\"Porovnání EKF vs. KalmanNet Arch. #1 vs. Arch. #2 (Perfektní model)\", fontsize=16)\n",
    "\n",
    "x_true_plot = x_test.squeeze().numpy()\n",
    "y_meas_plot = y_test.squeeze().numpy()\n",
    "x_hat_knet_plot = x_hat_knet.squeeze().numpy()\n",
    "x_hat_ekf_plot = x_hat_ekf.numpy()\n",
    "x_hat_knet2_plot = x_hat_knet2.squeeze().numpy()\n",
    "\n",
    "\n",
    "plt.plot(x_true_plot, 'k-', linewidth=2, label=\"Skutečný stav (Ground Truth)\")\n",
    "plt.plot(y_meas_plot, 'r.', markersize=5, alpha=0.5, label=\"Měření\")\n",
    "plt.plot(x_hat_knet_plot, 'g--', linewidth=2.5, label=f\"Odhad KalmanNet (MSE={mse_knet.item():.4f})\")\n",
    "plt.plot(x_hat_ekf_plot, 'b-.', linewidth=2.5, label=f\"Odhad EKF (MSE={mse_ekf.item():.4f})\")\n",
    "plt.plot(x_hat_knet2_plot, 'y:', linewidth=2.5, label=f\"Odhad KNet #2 (MSE={mse_knet2.item():.4f})\")\n",
    "\n",
    "\n",
    "plt.xlabel(\"Časový krok\", fontsize=12)\n",
    "plt.ylabel(\"Hodnota\", fontsize=12)\n",
    "plt.grid(True, linestyle='--', alpha=0.7)\n",
    "plt.legend(fontsize=12)\n",
    "plt.show()"
   ]
  },
  {
   "cell_type": "markdown",
   "id": "1350ac8c",
   "metadata": {},
   "source": [
    "# Testcase 3: Nelineární systém s nepřesným modelem"
   ]
  },
  {
   "cell_type": "code",
   "execution_count": null,
   "id": "2d13c8f7",
   "metadata": {},
   "outputs": [],
   "source": [
    "h_true_nonlinear = lambda x: 0.5 * x\n",
    "f_true_nonlinear = lambda x: 0.9 * x - 0.05 * x**3 \n",
    "\n",
    "Q_true = torch.tensor([[0.1]])\n",
    "R_true = torch.tensor([[0.1]])\n",
    "\n",
    "Ex0_true = torch.tensor([[1.0]])\n",
    "P0_true = torch.tensor([[0.5]])\n",
    "\n",
    "sys_true = NonlinearSystem(f_true_nonlinear, h_true_nonlinear, Q_true, R_true, Ex0_true, P0_true)\n",
    "\n",
    "#  Nepřesná dynamika (lineární aproximace nelineární funkce f)\n",
    "f_model_nonlinear = lambda x: 0.9 * x \n",
    "h_model_nonlinear = h_true_nonlinear\n",
    "# Nepřesná znalost šumu (podcenění Q)\n",
    "Q_model = torch.tensor([[0.01]])\n",
    "R_model = R_true\n",
    "# Nepřesný počáteční odhad (pro EKF)\n",
    "Ex0_model = torch.tensor([[0.5]])\n",
    "P0_model = torch.tensor([[1.0]])\n",
    "\n",
    "# Sestavení nepřesného modelu pro filtry\n",
    "# Funkce h, R jsou pro jednoduchost stejné, ale f, Q, Ex0, P0 jsou jiné\n",
    "sys_model = NonlinearSystem(f_model_nonlinear, h_model_nonlinear, Q_model, R_model, Ex0_model, P0_model)"
   ]
  },
  {
   "cell_type": "code",
   "execution_count": null,
   "id": "67612e79",
   "metadata": {},
   "outputs": [],
   "source": [
    "\n",
    "x_train, y_train = generate_data(sys_true, num_trajectories=1000, seq_len=100)\n",
    "x_test, y_test = generate_data(sys_true, num_trajectories=1, seq_len=200)\n",
    "\n",
    "train_dataset = TensorDataset(x_train, y_train)\n",
    "train_loader = DataLoader(train_dataset, batch_size=64, shuffle=True)\n"
   ]
  },
  {
   "cell_type": "code",
   "execution_count": null,
   "id": "756a0c5c",
   "metadata": {},
   "outputs": [],
   "source": [
    "ekf = ExtendedKalmanFilter(sys_model)\n",
    "y_test_seq = y_test.squeeze(0)\n",
    "ekf_results = ekf.apply_filter(y_test_seq)\n",
    "x_hat_ekf = ekf_results['x_filtered']"
   ]
  },
  {
   "cell_type": "code",
   "execution_count": null,
   "id": "0c11358f",
   "metadata": {},
   "outputs": [],
   "source": [
    "knet_nelinearni = KalmanNet(sys_model).to(device)\n",
    "train(knet_nelinearni, train_loader, device, epochs=50, lr=1e-4)"
   ]
  },
  {
   "cell_type": "code",
   "execution_count": null,
   "id": "f24b3710",
   "metadata": {},
   "outputs": [],
   "source": [
    "from KalmanNet2 import KalmanNet2\n",
    "print(\"\\n--- Trénování KalmanNet Architektury #2 ---\")\n",
    "knet2 = KalmanNet2(sys_model, in_mult=20, out_mult=30).to(device)\n",
    "train(knet2, train_loader, device, epochs=50, lr=1e-4)\n",
    "knet2.eval()\n",
    "with torch.no_grad():\n",
    "    x_hat_knet2 = knet2(y_test.to(device)).cpu()"
   ]
  },
  {
   "cell_type": "code",
   "execution_count": null,
   "id": "b5b08d96",
   "metadata": {},
   "outputs": [],
   "source": [
    "knet = knet_nelinearni\n",
    "knet.eval()\n",
    "\n",
    "with torch.no_grad():\n",
    "    y_test_device = y_test.to(device)\n",
    "    x_hat_knet_device = knet(y_test_device)\n",
    "    x_hat_knet = x_hat_knet_device.cpu()\n",
    "\n",
    "mse_criterion = nn.MSELoss()\n",
    "mse_knet = mse_criterion(x_hat_knet, x_test)\n",
    "mse_ekf = mse_criterion(x_hat_ekf, x_test)\n",
    "mse_knet2 = mse_criterion(x_hat_knet2, x_test)\n",
    "\n",
    "print(f\"\\nVýsledná MSE KalmanNet na nelineárním systému: {mse_knet.item():.4f}\")\n",
    "print(f\"Výsledná MSE EKF na nelineárním systému:       {mse_ekf.item():.4f}\")\n",
    "print(f\"Výsledná MSE KalmanNet (Arch. #2):     {mse_knet2.item():.4f}\")\n",
    "\n",
    "plt.figure(figsize=(16, 8))\n",
    "plt.title(\"Porovnání EKF vs. KalmanNet Arch. #1 vs. Arch. #2 (nepřesný model)\", fontsize=16)\n",
    "\n",
    "x_true_plot = x_test.squeeze().numpy()\n",
    "y_meas_plot = y_test.squeeze().numpy()\n",
    "x_hat_knet_plot = x_hat_knet.squeeze().numpy()\n",
    "x_hat_ekf_plot = x_hat_ekf.numpy()\n",
    "x_hat_knet2_plot = x_hat_knet2.squeeze().numpy()\n",
    "\n",
    "\n",
    "plt.plot(x_true_plot, 'k-', linewidth=2, label=\"Skutečný stav (Ground Truth)\")\n",
    "plt.plot(y_meas_plot, 'r.', markersize=5, alpha=0.5, label=\"Měření\")\n",
    "plt.plot(x_hat_knet_plot, 'g--', linewidth=2.5, label=f\"Odhad KalmanNet (MSE={mse_knet.item():.4f})\")\n",
    "plt.plot(x_hat_ekf_plot, 'b-.', linewidth=2.5, label=f\"Odhad EKF (MSE={mse_ekf.item():.4f})\")\n",
    "plt.plot(x_hat_knet2_plot, 'y:', linewidth=2.5, label=f\"Odhad KNet #2 (MSE={mse_knet2.item():.4f})\")\n",
    "\n",
    "\n",
    "plt.xlabel(\"Časový krok\", fontsize=12)\n",
    "plt.ylabel(\"Hodnota\", fontsize=12)\n",
    "plt.grid(True, linestyle='--', alpha=0.7)\n",
    "plt.legend(fontsize=12)\n",
    "plt.show()"
   ]
  },
  {
   "cell_type": "markdown",
   "id": "6f43168d",
   "metadata": {},
   "source": [
    "# Testcase 4: Sledování lodi (bez vstupu)"
   ]
  },
  {
   "cell_type": "code",
   "execution_count": null,
   "id": "30bb9dd8",
   "metadata": {},
   "outputs": [],
   "source": [
    "dt = 0.02\n",
    "\n",
    "F = torch.tensor([\n",
    "    [1,0,dt,0],\n",
    "    [0, 1, 0, dt],\n",
    "    [0, 0, 1, 0],\n",
    "    [0, 0, 0, 1]\n",
    "    ],dtype=torch.float32\n",
    ").to(device)\n",
    "\n",
    "f_true = lambda x: F @ x\n",
    "\n",
    "def h_true_nonlinear(x):\n",
    "    x_pos, y_pos = x[0], x[1]\n",
    "    angle = torch.atan2(y_pos, x_pos)\n",
    "    distance = torch.sqrt(x_pos**2 + y_pos**2)\n",
    "    return torch.stack([angle,distance])\n",
    "\n",
    "Q_true = (torch.eye(4) * 10e-6).to(device)\n",
    "R_true = torch.tensor([[4e-4*(torch.pi/180)**2, 0], [0, 1e-4]],dtype=torch.float32).to(device)\n",
    "P0_true = torch.eye(4).to(device)\n",
    "Ex0_true = torch.tensor([[20, 50, 0,-12]],dtype=torch.float32).T.to(device)\n",
    "\n",
    "sys_true = NonlinearSystem(f_true, h_true_nonlinear, Q_true, R_true, Ex0_true, P0_true)\n",
    "\n",
    "sys_model = sys_true"
   ]
  },
  {
   "cell_type": "code",
   "execution_count": null,
   "id": "6bf684ee",
   "metadata": {},
   "outputs": [],
   "source": [
    "print(\"\\n--- Generování dat pro zjednodušené sledování lodi ---\")\n",
    "x_train, y_train = generate_data(sys_true, num_trajectories=1000, seq_len=100)\n",
    "x_test, y_test = generate_data(sys_true, num_trajectories=1, seq_len=200)\n",
    "train_loader = DataLoader(TensorDataset(x_train, y_train), batch_size=64, shuffle=True)"
   ]
  },
  {
   "cell_type": "code",
   "execution_count": null,
   "id": "bb047b58",
   "metadata": {},
   "outputs": [],
   "source": [
    "print(\"\\n--- Evaluace EKF ---\")\n",
    "ekf = ExtendedKalmanFilter(sys_model)\n",
    "ekf_results = ekf.apply_filter(y_test.squeeze(0))\n",
    "x_hat_ekf = ekf_results['x_filtered']"
   ]
  },
  {
   "cell_type": "code",
   "execution_count": null,
   "id": "00774792",
   "metadata": {},
   "outputs": [],
   "source": [
    "print(\"\\n--- Trénování KalmanNet Architektury #1 ---\")\n",
    "# hidden_size_multiplier může být menší, problém je jednodušší\n",
    "knet1 = KalmanNet(sys_model, device, hidden_size_multiplier=20).to(device)\n",
    "train(knet1, train_loader, device, epochs=50, lr=1e-4)\n",
    "knet1.eval()\n",
    "with torch.no_grad():\n",
    "    x_hat_knet1 = knet1(y_test.to(device)).cpu()"
   ]
  },
  {
   "cell_type": "code",
   "execution_count": null,
   "id": "ab6b1dd1",
   "metadata": {},
   "outputs": [],
   "source": [
    "print(\"\\n--- Trénování KalmanNet Architektury #2 ---\")\n",
    "# Multiplikátory mohou být menší\n",
    "knet2 = KalmanNet2(sys_model, in_mult=20, out_mult=30).to(device)\n",
    "train(knet2, train_loader, device, epochs=40, lr=1e-4)\n",
    "knet2.eval()\n",
    "with torch.no_grad():\n",
    "    x_hat_knet2 = knet2(y_test.to(device)).cpu()"
   ]
  },
  {
   "cell_type": "code",
   "execution_count": null,
   "id": "196d617b",
   "metadata": {},
   "outputs": [],
   "source": [
    "x_true_pos = x_test.squeeze(0)[:, :2].cpu()\n",
    "x_hat_ekf_pos = x_hat_ekf[:, :2].cpu()\n",
    "x_hat_knet1_pos = x_hat_knet1.squeeze(0)[:, :2]\n",
    "x_hat_knet2_pos = x_hat_knet2.squeeze(0)[:, :2]\n",
    "\n",
    "mse_ekf = torch.mean(torch.norm(x_hat_ekf_pos - x_true_pos, dim=1)**2)\n",
    "mse_knet1 = torch.mean(torch.norm(x_hat_knet1_pos - x_true_pos, dim=1)**2)\n",
    "mse_knet2 = torch.mean(torch.norm(x_hat_knet2_pos - x_true_pos, dim=1)**2)\n",
    "\n",
    "print(\"\\n--- Výsledky porovnání (Zjednodušené sledování, perfektní model) ---\")\n",
    "print(f\"Výsledná MSE EKF:                      {mse_ekf.item():.4f}\")\n",
    "print(f\"Výsledná MSE KalmanNet (Arch. #1):     {mse_knet1.item():.4f}\")\n",
    "print(f\"Výsledná MSE KalmanNet (Arch. #2):     {mse_knet2.item():.4f}\")"
   ]
  },
  {
   "cell_type": "code",
   "execution_count": null,
   "id": "5d32e3dc",
   "metadata": {},
   "outputs": [],
   "source": [
    "plt.figure(figsize=(12, 10))\n",
    "plt.title(\"Porovnání odhadů trajektorie lodi (zjednodušený model)\", fontsize=16)\n",
    "\n",
    "y_test_seq = y_test.squeeze(0).cpu()\n",
    "angles = y_test_seq[:, 0].cpu()\n",
    "distances = y_test_seq[:, 1].cpu()\n",
    "y_meas_x = distances * torch.cos(angles)\n",
    "y_meas_y = distances * torch.sin(angles)\n",
    "\n",
    "plt.plot(x_true_pos[:, 0], x_true_pos[:, 1], 'k-', linewidth=3, label=\"Skutečná trajektorie\")\n",
    "plt.plot(y_meas_x, y_meas_y, 'r.', markersize=4, alpha=0.4, label=\"Měření (v Kartéz. souř.)\")\n",
    "plt.plot(x_hat_ekf_pos[:, 0], x_hat_ekf_pos[:, 1], 'b-.', linewidth=2, label=f\"Odhad EKF (MSE={mse_ekf.item():.4f})\")\n",
    "plt.plot(x_hat_knet1_pos[:, 0], x_hat_knet1_pos[:, 1], 'g--', linewidth=2, label=f\"Odhad KNet #1 (MSE={mse_knet1.item():.4f})\")\n",
    "# plt.plot(x_hat_knet2_pos[:, 0], x_hat_knet2_pos[:, 1], 'm:', linewidth=2, label=f\"Odhad KNet #2 (MSE={mse_knet2.item():.4f})\")\n",
    "\n",
    "plt.xlabel(\"Poloha X [m]\", fontsize=12)\n",
    "plt.ylabel(\"Poloha Y [m]\", fontsize=12)\n",
    "plt.grid(True, linestyle='--', alpha=0.7)\n",
    "plt.legend(fontsize=11)\n",
    "plt.axis('equal')\n",
    "plt.show()"
   ]
  },
  {
   "cell_type": "markdown",
   "id": "02838fd4",
   "metadata": {},
   "source": [
    "# Test adaptivniho LR na sledovani polohy lodi"
   ]
  },
  {
   "cell_type": "code",
   "execution_count": 17,
   "id": "6a5db987",
   "metadata": {},
   "outputs": [],
   "source": [
    "dt = 0.02\n",
    "\n",
    "F = torch.tensor([\n",
    "    [1,0,dt,0],\n",
    "    [0, 1, 0, dt],\n",
    "    [0, 0, 1, 0],\n",
    "    [0, 0, 0, 1]\n",
    "    ],dtype=torch.float32\n",
    ").to(device)\n",
    "\n",
    "f_true = lambda x: F @ x\n",
    "\n",
    "def h_true_nonlinear(x):\n",
    "    x_pos, y_pos = x[0], x[1]\n",
    "    angle = torch.atan2(y_pos, x_pos)\n",
    "    distance = torch.sqrt(x_pos**2 + y_pos**2)\n",
    "    return torch.stack([angle,distance])\n",
    "\n",
    "Q_true = (torch.eye(4) * 10e-6).to(device)\n",
    "R_true = torch.tensor([[4e-4*(torch.pi/180)**2, 0], [0, 1e-4]],dtype=torch.float32).to(device)\n",
    "P0_true = torch.eye(4).to(device)\n",
    "Ex0_true = torch.tensor([[20, 50, 0,-12]],dtype=torch.float32).T.to(device)\n",
    "\n",
    "sys_true = NonlinearSystem(f_true, h_true_nonlinear, Q_true, R_true, Ex0_true, P0_true)\n",
    "\n",
    "sys_model = sys_true"
   ]
  },
  {
   "cell_type": "code",
   "execution_count": 18,
   "id": "502b4d15",
   "metadata": {},
   "outputs": [],
   "source": [
    "x_train, y_train = generate_data(sys_true, num_trajectories=1000, seq_len=100)\n",
    "x_test, y_test = generate_data(sys_true, num_trajectories=1, seq_len=200)\n",
    "\n",
    "# --- 1. Rozdělení dat na trénovací a validační sadu ---\n",
    "full_train_dataset = TensorDataset(x_train, y_train)\n",
    "\n",
    "# Např. 90% pro trénování, 10% pro validaci\n",
    "train_size = int(0.9 * len(full_train_dataset))\n",
    "val_size = len(full_train_dataset) - train_size\n",
    "train_dataset, val_dataset = random_split(full_train_dataset, [train_size, val_size])\n",
    "\n",
    "# Vytvoření DataLoaderů pro obě sady\n",
    "train_loader = DataLoader(train_dataset, batch_size=64, shuffle=True)\n",
    "val_loader = DataLoader(val_dataset, batch_size=64, shuffle=False)\n"
   ]
  },
  {
   "cell_type": "code",
   "execution_count": 19,
   "id": "37548bd8",
   "metadata": {},
   "outputs": [
    {
     "name": "stdout",
     "output_type": "stream",
     "text": [
      "\n",
      "--- Evaluace EKF ---\n"
     ]
    }
   ],
   "source": [
    "print(\"\\n--- Evaluace EKF ---\")\n",
    "ekf = ExtendedKalmanFilter(sys_model)\n",
    "ekf_results = ekf.apply_filter(y_test.squeeze(0))\n",
    "x_hat_ekf = ekf_results['x_filtered']"
   ]
  },
  {
   "cell_type": "code",
   "execution_count": 20,
   "id": "d3d96529",
   "metadata": {},
   "outputs": [
    {
     "name": "stdout",
     "output_type": "stream",
     "text": [
      "\n",
      "--- Trénování KalmanNet Architektury #1 ---\n",
      "Zahajuji trénování KalmanNetu s dynamickým LR a Early Stopping...\n"
     ]
    },
    {
     "name": "stderr",
     "output_type": "stream",
     "text": [
      "/home/luky/.local/lib/python3.10/site-packages/torch/optim/lr_scheduler.py:28: UserWarning: The verbose parameter is deprecated. Please use get_last_lr() to access the learning rate.\n",
      "  warnings.warn(\"The verbose parameter is deprecated. Please use get_last_lr() \"\n"
     ]
    },
    {
     "name": "stdout",
     "output_type": "stream",
     "text": [
      "Epocha [5/200], Train Loss: 0.278408, Val Loss: 0.209987\n",
      "Epocha [10/200], Train Loss: 0.152037, Val Loss: 0.298173\n",
      "Epocha [15/200], Train Loss: 0.087731, Val Loss: 0.146408\n",
      "Epocha [20/200], Train Loss: 0.094675, Val Loss: 0.120409\n",
      "Epocha [25/200], Train Loss: 0.067744, Val Loss: 0.077179\n",
      "Epocha [30/200], Train Loss: 0.060702, Val Loss: 0.062934\n",
      "Epocha [35/200], Train Loss: 0.059057, Val Loss: 0.062500\n",
      "Epocha [40/200], Train Loss: 0.074200, Val Loss: 0.087606\n",
      "Epocha [45/200], Train Loss: 0.059487, Val Loss: 0.054224\n",
      "Epocha [50/200], Train Loss: 0.060003, Val Loss: 0.089495\n",
      "Epocha [55/200], Train Loss: 0.050664, Val Loss: 0.063090\n",
      "Epocha [60/200], Train Loss: 0.064808, Val Loss: 0.051397\n",
      "Epocha [65/200], Train Loss: 0.067804, Val Loss: 0.049210\n",
      "Epocha [70/200], Train Loss: 0.052821, Val Loss: 0.077090\n",
      "Epocha [75/200], Train Loss: 0.040582, Val Loss: 0.041128\n",
      "Epocha [80/200], Train Loss: 0.045395, Val Loss: 0.047425\n",
      "Epocha [85/200], Train Loss: 0.040496, Val Loss: 0.040814\n",
      "Epocha [90/200], Train Loss: 0.039882, Val Loss: 0.038790\n",
      "Epocha [95/200], Train Loss: 0.043183, Val Loss: 0.048818\n",
      "Epocha [100/200], Train Loss: 0.035159, Val Loss: 0.040111\n",
      "Epocha [105/200], Train Loss: 0.037046, Val Loss: 0.035836\n",
      "Epocha [110/200], Train Loss: 0.035223, Val Loss: 0.034892\n",
      "Epocha [115/200], Train Loss: 0.036115, Val Loss: 0.038685\n",
      "Epocha [120/200], Train Loss: 0.037630, Val Loss: 0.035778\n",
      "Epocha [125/200], Train Loss: 0.038480, Val Loss: 0.036604\n",
      "Epocha [130/200], Train Loss: 0.035282, Val Loss: 0.034090\n",
      "Epocha [135/200], Train Loss: 0.034982, Val Loss: 0.035769\n",
      "Epocha [140/200], Train Loss: 0.033130, Val Loss: 0.035119\n",
      "Epocha [145/200], Train Loss: 0.033312, Val Loss: 0.035471\n",
      "Epocha [150/200], Train Loss: 0.032629, Val Loss: 0.034431\n",
      "Epocha [155/200], Train Loss: 0.033760, Val Loss: 0.035173\n",
      "Epocha [160/200], Train Loss: 0.034943, Val Loss: 0.034200\n",
      "Epocha [165/200], Train Loss: 0.033205, Val Loss: 0.034314\n",
      "Epocha [170/200], Train Loss: 0.031547, Val Loss: 0.032493\n",
      "Epocha [175/200], Train Loss: 0.032749, Val Loss: 0.034346\n",
      "Epocha [180/200], Train Loss: 0.032934, Val Loss: 0.032305\n",
      "Epocha [185/200], Train Loss: 0.032767, Val Loss: 0.033287\n",
      "Epocha [190/200], Train Loss: 0.032891, Val Loss: 0.034891\n",
      "Epocha [195/200], Train Loss: 0.031853, Val Loss: 0.032027\n",
      "Epocha [200/200], Train Loss: 0.030665, Val Loss: 0.032357\n",
      "Trénování dokončeno.\n",
      "Načítám nejlepší model s validační chybou: 0.031965\n"
     ]
    }
   ],
   "source": [
    "print(\"\\n--- Trénování KalmanNet Architektury #1 ---\")\n",
    "# hidden_size_multiplier může být menší, problém je jednodušší\n",
    "knet1 = KalmanNet(sys_model, device, hidden_size_multiplier=10).to(device)\n",
    "train_with_scheduler(knet1, train_loader, val_loader, device, epochs=200, lr=1e-3)\n",
    "knet1.eval()\n",
    "with torch.no_grad():\n",
    "    x_hat_knet1 = knet1(y_test.to(device)).cpu()"
   ]
  },
  {
   "cell_type": "code",
   "execution_count": 21,
   "id": "9a9eef76",
   "metadata": {},
   "outputs": [
    {
     "name": "stdout",
     "output_type": "stream",
     "text": [
      "\n",
      "--- Trénování KalmanNet Architektury #2 ---\n",
      "Zahajuji trénování KalmanNetu s dynamickým LR a Early Stopping...\n"
     ]
    },
    {
     "name": "stderr",
     "output_type": "stream",
     "text": [
      "/home/luky/.local/lib/python3.10/site-packages/torch/optim/lr_scheduler.py:28: UserWarning: The verbose parameter is deprecated. Please use get_last_lr() to access the learning rate.\n",
      "  warnings.warn(\"The verbose parameter is deprecated. Please use get_last_lr() \"\n"
     ]
    },
    {
     "name": "stdout",
     "output_type": "stream",
     "text": [
      "Epocha [5/200], Train Loss: 0.276092, Val Loss: 0.249640\n",
      "Epocha [10/200], Train Loss: 0.199049, Val Loss: 0.121318\n",
      "Epocha [15/200], Train Loss: 0.050585, Val Loss: 0.056338\n",
      "Epocha [20/200], Train Loss: 0.042023, Val Loss: 0.042493\n",
      "Epocha [25/200], Train Loss: 0.050556, Val Loss: 0.066188\n",
      "Epocha [30/200], Train Loss: 0.032831, Val Loss: 0.038821\n",
      "Epocha [35/200], Train Loss: 0.033011, Val Loss: 0.027209\n",
      "Epocha [40/200], Train Loss: 0.033820, Val Loss: 0.029427\n",
      "Epocha [45/200], Train Loss: 0.027761, Val Loss: 0.027315\n",
      "Epocha [50/200], Train Loss: 0.025896, Val Loss: 0.025705\n",
      "Epocha [55/200], Train Loss: 0.024961, Val Loss: 0.025897\n",
      "Epocha [60/200], Train Loss: 0.025006, Val Loss: 0.024643\n",
      "Epocha [65/200], Train Loss: 0.025257, Val Loss: 0.024924\n",
      "Epocha [70/200], Train Loss: 0.023651, Val Loss: 0.024145\n",
      "Epocha [75/200], Train Loss: 0.023048, Val Loss: 0.024084\n",
      "Epocha [80/200], Train Loss: 0.027174, Val Loss: 0.060345\n",
      "Epocha [85/200], Train Loss: 0.022679, Val Loss: 0.023398\n",
      "Epocha [90/200], Train Loss: 0.022816, Val Loss: 0.022686\n",
      "Epocha [95/200], Train Loss: 0.022321, Val Loss: 0.022724\n",
      "Epocha [100/200], Train Loss: 0.023721, Val Loss: 0.022150\n",
      "Epocha [105/200], Train Loss: 0.022750, Val Loss: 0.022064\n",
      "Epocha [110/200], Train Loss: 0.021982, Val Loss: 0.024862\n",
      "Epocha [115/200], Train Loss: 0.022062, Val Loss: 0.021822\n",
      "Epocha [120/200], Train Loss: 0.021052, Val Loss: 0.022609\n",
      "Epocha [125/200], Train Loss: 0.023249, Val Loss: 0.025173\n",
      "Epocha [130/200], Train Loss: 0.021233, Val Loss: 0.021633\n",
      "Epocha [135/200], Train Loss: 0.021121, Val Loss: 0.020711\n",
      "Epocha [140/200], Train Loss: 0.020611, Val Loss: 0.021006\n",
      "Epocha [145/200], Train Loss: 0.021291, Val Loss: 0.021392\n",
      "Epocha [150/200], Train Loss: 0.020748, Val Loss: 0.021072\n",
      "Epocha [155/200], Train Loss: 0.020476, Val Loss: 0.020864\n",
      "Epocha [160/200], Train Loss: 0.020493, Val Loss: 0.022431\n",
      "Epocha [165/200], Train Loss: 0.020290, Val Loss: 0.020359\n",
      "Epocha [170/200], Train Loss: 0.019284, Val Loss: 0.019846\n",
      "Epocha [175/200], Train Loss: 0.019356, Val Loss: 0.019812\n",
      "Epocha [180/200], Train Loss: 0.019226, Val Loss: 0.020094\n",
      "Epocha [185/200], Train Loss: 0.020083, Val Loss: 0.019904\n",
      "Epocha [190/200], Train Loss: 0.019492, Val Loss: 0.019661\n",
      "Epocha [195/200], Train Loss: 0.019826, Val Loss: 0.020977\n",
      "Epocha [200/200], Train Loss: 0.019581, Val Loss: 0.020038\n",
      "Trénování dokončeno.\n",
      "Načítám nejlepší model s validační chybou: 0.019656\n"
     ]
    }
   ],
   "source": [
    "print(\"\\n--- Trénování KalmanNet Architektury #2 ---\")\n",
    "# Multiplikátory mohou být menší\n",
    "knet2 = KalmanNet2(sys_model, in_mult=20, out_mult=30).to(device)\n",
    "train_with_scheduler(knet2, train_loader, val_loader, device, epochs=200, lr=1e-3)\n",
    "knet2.eval()\n",
    "with torch.no_grad():\n",
    "    x_hat_knet2 = knet2(y_test.to(device)).cpu()"
   ]
  },
  {
   "cell_type": "code",
   "execution_count": 22,
   "id": "b37b799e",
   "metadata": {},
   "outputs": [
    {
     "name": "stdout",
     "output_type": "stream",
     "text": [
      "\n",
      "--- Výsledky porovnání (Zjednodušené sledování, perfektní model) ---\n",
      "Výsledná MSE EKF:                      0.0001\n",
      "Výsledná MSE KalmanNet (Arch. #1):     0.0013\n",
      "Výsledná MSE KalmanNet (Arch. #2):     0.0007\n"
     ]
    }
   ],
   "source": [
    "x_true_pos = x_test.squeeze(0)[:, :2].cpu()\n",
    "x_hat_ekf_pos = x_hat_ekf[:, :2].cpu()\n",
    "x_hat_knet1_pos = x_hat_knet1.squeeze(0)[:, :2]\n",
    "x_hat_knet2_pos = x_hat_knet2.squeeze(0)[:, :2]\n",
    "\n",
    "mse_ekf = torch.mean(torch.norm(x_hat_ekf_pos - x_true_pos, dim=1)**2)\n",
    "mse_knet1 = torch.mean(torch.norm(x_hat_knet1_pos - x_true_pos, dim=1)**2)\n",
    "mse_knet2 = torch.mean(torch.norm(x_hat_knet2_pos - x_true_pos, dim=1)**2)\n",
    "\n",
    "print(\"\\n--- Výsledky porovnání (Zjednodušené sledování, perfektní model) ---\")\n",
    "print(f\"Výsledná MSE EKF:                      {mse_ekf.item():.4f}\")\n",
    "print(f\"Výsledná MSE KalmanNet (Arch. #1):     {mse_knet1.item():.4f}\")\n",
    "print(f\"Výsledná MSE KalmanNet (Arch. #2):     {mse_knet2.item():.4f}\")"
   ]
  },
  {
   "cell_type": "code",
   "execution_count": 23,
   "id": "3b6b3bff",
   "metadata": {},
   "outputs": [
    {
     "data": {
      "image/png": "[encoded data removed]",
      "text/plain": [
       "<Figure size 1200x1000 with 1 Axes>"
      ]
     },
     "metadata": {},
     "output_type": "display_data"
    }
   ],
   "source": [
    "plt.figure(figsize=(12, 10))\n",
    "plt.title(\"Porovnání odhadů trajektorie lodi (zjednodušený model)\", fontsize=16)\n",
    "\n",
    "y_test_seq = y_test.squeeze(0).cpu()\n",
    "angles = y_test_seq[:, 0].cpu()\n",
    "distances = y_test_seq[:, 1].cpu()\n",
    "y_meas_x = distances * torch.cos(angles)\n",
    "y_meas_y = distances * torch.sin(angles)\n",
    "\n",
    "plt.plot(x_true_pos[:, 0], x_true_pos[:, 1], 'k-', linewidth=3, label=\"Skutečná trajektorie\")\n",
    "plt.plot(y_meas_x, y_meas_y, 'r.', markersize=4, alpha=0.4, label=\"Měření (v Kartéz. souř.)\")\n",
    "plt.plot(x_hat_ekf_pos[:, 0], x_hat_ekf_pos[:, 1], 'b-.', linewidth=2, label=f\"Odhad EKF (MSE={mse_ekf.item():.4f})\")\n",
    "plt.plot(x_hat_knet1_pos[:, 0], x_hat_knet1_pos[:, 1], 'g--', linewidth=2, label=f\"Odhad KNet #1 (MSE={mse_knet1.item():.4f})\")\n",
    "plt.plot(x_hat_knet2_pos[:, 0], x_hat_knet2_pos[:, 1], 'm:', linewidth=2, label=f\"Odhad KNet #2 (MSE={mse_knet2.item():.4f})\")\n",
    "\n",
    "plt.xlabel(\"Poloha X [m]\", fontsize=12)\n",
    "plt.ylabel(\"Poloha Y [m]\", fontsize=12)\n",
    "plt.grid(True, linestyle='--', alpha=0.7)\n",
    "plt.legend(fontsize=11)\n",
    "plt.axis('equal')\n",
    "plt.show()"
   ]
  }
 ],
 "metadata": {
  "kernelspec": {
   "display_name": "Python 3",
   "language": "python",
   "name": "python3"
  },
  "language_info": {
   "codemirror_mode": {
    "name": "ipython",
    "version": 3
   },
   "file_extension": ".py",
   "mimetype": "text/x-python",
   "name": "python",
   "nbconvert_exporter": "python",
   "pygments_lexer": "ipython3",
   "version": "3.10.12"
  }
 },
 "nbformat": 4,
 "nbformat_minor": 5
}
